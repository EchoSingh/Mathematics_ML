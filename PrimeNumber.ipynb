{
  "nbformat": 4,
  "nbformat_minor": 0,
  "metadata": {
    "colab": {
      "provenance": []
    },
    "kernelspec": {
      "name": "python3",
      "display_name": "Python 3"
    },
    "language_info": {
      "name": "python"
    }
  },
  "cells": [
    {
      "cell_type": "markdown",
      "source": [
        "# Prime Number Prediction using ML"
      ],
      "metadata": {
        "id": "EGymHy3_jERC"
      }
    },
    {
      "cell_type": "code",
      "execution_count": 1,
      "metadata": {
        "id": "Wd5oATJAiCLm"
      },
      "outputs": [],
      "source": [
        "import numpy as np\n",
        "import pandas as pd\n",
        "import time\n",
        "import math\n",
        "import random\n",
        "from sklearn.model_selection import train_test_split\n",
        "from sklearn.preprocessing import StandardScaler\n",
        "from sklearn.linear_model import LogisticRegression\n",
        "from sklearn.svm import SVC\n",
        "from sklearn.neural_network import MLPClassifier\n",
        "from sklearn.ensemble import RandomForestClassifier, GradientBoostingClassifier\n",
        "from sklearn.metrics import accuracy_score, classification_report\n",
        "import tensorflow as tf\n",
        "from tensorflow import keras\n",
        "import gradio as gr\n"
      ]
    },
    {
      "cell_type": "markdown",
      "source": [
        "## Generate Dataset"
      ],
      "metadata": {
        "id": "5otIwWFYi7W9"
      }
    },
    {
      "cell_type": "code",
      "source": [
        "def is_prime(n):\n",
        "    if n < 2:\n",
        "        return 0\n",
        "    for i in range(2, int(math.sqrt(n)) + 1):\n",
        "        if n % i == 0:\n",
        "            return 0\n",
        "    return 1\n",
        "\n",
        "def generate_dataset(size=50000):\n",
        "    numbers = np.arange(2, size + 2)\n",
        "    labels = np.array([is_prime(n) for n in numbers])\n",
        "\n",
        "    features = np.array([\n",
        "        [n, sum(map(int, str(n))), bin(n).count('1'), n % 2, n % 3, n % 5, n % 7, n % 11, n % 13]\n",
        "        for n in numbers\n",
        "    ])\n",
        "\n",
        "    return features, labels"
      ],
      "metadata": {
        "id": "lkf0LdPuiTNM"
      },
      "execution_count": 2,
      "outputs": []
    },
    {
      "cell_type": "markdown",
      "source": [
        "## Prepare Data"
      ],
      "metadata": {
        "id": "CTOy3gbZjJad"
      }
    },
    {
      "cell_type": "code",
      "source": [
        "\n",
        "X, y = generate_dataset(100000)\n",
        "X_train, X_test, y_train, y_test = train_test_split(X, y, test_size=0.2, random_state=42)\n",
        "scaler = StandardScaler()\n",
        "X_train = scaler.fit_transform(X_train)\n",
        "X_test = scaler.transform(X_test)"
      ],
      "metadata": {
        "id": "VJ5P6oRRiUDt"
      },
      "execution_count": 3,
      "outputs": []
    },
    {
      "cell_type": "markdown",
      "source": [
        "## Train Models"
      ],
      "metadata": {
        "id": "rapg-G8zjSj1"
      }
    },
    {
      "cell_type": "code",
      "source": [
        "models = {\n",
        "    \"Logistic Regression\": LogisticRegression(),\n",
        "    \"Support Vector Machine\": SVC(),\n",
        "    \"Random Forest\": RandomForestClassifier(n_estimators=200),\n",
        "    \"Gradient Boosting\": GradientBoostingClassifier(n_estimators=200),\n",
        "    \"Neural Network\": MLPClassifier(hidden_layer_sizes=(256, 128, 64), max_iter=1000)\n",
        "}\n",
        "\n",
        "trained_models = {}\n",
        "for name, model in models.items():\n",
        "    model.fit(X_train, y_train)\n",
        "    trained_models[name] = model\n",
        "    y_pred = model.predict(X_test)\n",
        "    print(f\"{name} Accuracy: {accuracy_score(y_test, y_pred)}\")\n",
        "    print(classification_report(y_test, y_pred))"
      ],
      "metadata": {
        "colab": {
          "base_uri": "https://localhost:8080/"
        },
        "id": "Rh-7uXtziXSk",
        "outputId": "aa86d3b3-f937-4d26-b1d4-5f173ce4b76b"
      },
      "execution_count": 4,
      "outputs": [
        {
          "output_type": "stream",
          "name": "stdout",
          "text": [
            "Logistic Regression Accuracy: 0.90295\n",
            "              precision    recall  f1-score   support\n",
            "\n",
            "           0       0.92      0.98      0.95     18104\n",
            "           1       0.46      0.16      0.23      1896\n",
            "\n",
            "    accuracy                           0.90     20000\n",
            "   macro avg       0.69      0.57      0.59     20000\n",
            "weighted avg       0.87      0.90      0.88     20000\n",
            "\n",
            "Support Vector Machine Accuracy: 0.90915\n",
            "              precision    recall  f1-score   support\n",
            "\n",
            "           0       0.92      0.98      0.95     18104\n",
            "           1       0.56      0.20      0.29      1896\n",
            "\n",
            "    accuracy                           0.91     20000\n",
            "   macro avg       0.74      0.59      0.62     20000\n",
            "weighted avg       0.89      0.91      0.89     20000\n",
            "\n",
            "Random Forest Accuracy: 0.9044\n",
            "              precision    recall  f1-score   support\n",
            "\n",
            "           0       0.95      0.95      0.95     18104\n",
            "           1       0.50      0.48      0.49      1896\n",
            "\n",
            "    accuracy                           0.90     20000\n",
            "   macro avg       0.72      0.71      0.72     20000\n",
            "weighted avg       0.90      0.90      0.90     20000\n",
            "\n",
            "Gradient Boosting Accuracy: 0.9123\n",
            "              precision    recall  f1-score   support\n",
            "\n",
            "           0       0.94      0.97      0.95     18104\n",
            "           1       0.56      0.38      0.45      1896\n",
            "\n",
            "    accuracy                           0.91     20000\n",
            "   macro avg       0.75      0.67      0.70     20000\n",
            "weighted avg       0.90      0.91      0.90     20000\n",
            "\n",
            "Neural Network Accuracy: 0.905\n",
            "              precision    recall  f1-score   support\n",
            "\n",
            "           0       0.95      0.95      0.95     18104\n",
            "           1       0.50      0.48      0.49      1896\n",
            "\n",
            "    accuracy                           0.91     20000\n",
            "   macro avg       0.72      0.72      0.72     20000\n",
            "weighted avg       0.90      0.91      0.90     20000\n",
            "\n"
          ]
        }
      ]
    },
    {
      "cell_type": "markdown",
      "source": [
        "## Large Deep Learning Model"
      ],
      "metadata": {
        "id": "C82litlDl8K4"
      }
    },
    {
      "cell_type": "code",
      "source": [
        "def build_deep_model():\n",
        "    model = keras.Sequential([\n",
        "        keras.layers.Dense(512, activation='relu', input_shape=(X_train.shape[1],)),\n",
        "        keras.layers.Dense(256, activation='relu'),\n",
        "        keras.layers.Dense(128, activation='relu'),\n",
        "        keras.layers.Dense(64, activation='relu'),\n",
        "        keras.layers.Dense(1, activation='sigmoid')\n",
        "    ])\n",
        "    model.compile(optimizer='adam', loss='binary_crossentropy', metrics=['accuracy'])\n",
        "    return model\n",
        "\n",
        "large_nn = build_deep_model()\n",
        "large_nn.fit(X_train, y_train, epochs=20, batch_size=1024, validation_data=(X_test, y_test))"
      ],
      "metadata": {
        "colab": {
          "base_uri": "https://localhost:8080/"
        },
        "id": "n8gFPeA2id23",
        "outputId": "7f1974cd-62b9-4f34-e97d-b490ea2ab215"
      },
      "execution_count": 5,
      "outputs": [
        {
          "output_type": "stream",
          "name": "stderr",
          "text": [
            "/usr/local/lib/python3.11/dist-packages/keras/src/layers/core/dense.py:87: UserWarning: Do not pass an `input_shape`/`input_dim` argument to a layer. When using Sequential models, prefer using an `Input(shape)` object as the first layer in the model instead.\n",
            "  super().__init__(activity_regularizer=activity_regularizer, **kwargs)\n"
          ]
        },
        {
          "output_type": "stream",
          "name": "stdout",
          "text": [
            "Epoch 1/20\n",
            "\u001b[1m79/79\u001b[0m \u001b[32m━━━━━━━━━━━━━━━━━━━━\u001b[0m\u001b[37m\u001b[0m \u001b[1m5s\u001b[0m 32ms/step - accuracy: 0.8952 - loss: 0.2897 - val_accuracy: 0.9053 - val_loss: 0.1568\n",
            "Epoch 2/20\n",
            "\u001b[1m79/79\u001b[0m \u001b[32m━━━━━━━━━━━━━━━━━━━━\u001b[0m\u001b[37m\u001b[0m \u001b[1m2s\u001b[0m 27ms/step - accuracy: 0.9054 - loss: 0.1557 - val_accuracy: 0.9080 - val_loss: 0.1474\n",
            "Epoch 3/20\n",
            "\u001b[1m79/79\u001b[0m \u001b[32m━━━━━━━━━━━━━━━━━━━━\u001b[0m\u001b[37m\u001b[0m \u001b[1m3s\u001b[0m 29ms/step - accuracy: 0.9109 - loss: 0.1463 - val_accuracy: 0.9085 - val_loss: 0.1415\n",
            "Epoch 4/20\n",
            "\u001b[1m79/79\u001b[0m \u001b[32m━━━━━━━━━━━━━━━━━━━━\u001b[0m\u001b[37m\u001b[0m \u001b[1m2s\u001b[0m 29ms/step - accuracy: 0.9098 - loss: 0.1402 - val_accuracy: 0.9070 - val_loss: 0.1365\n",
            "Epoch 5/20\n",
            "\u001b[1m79/79\u001b[0m \u001b[32m━━━━━━━━━━━━━━━━━━━━\u001b[0m\u001b[37m\u001b[0m \u001b[1m4s\u001b[0m 46ms/step - accuracy: 0.9087 - loss: 0.1365 - val_accuracy: 0.9107 - val_loss: 0.1366\n",
            "Epoch 6/20\n",
            "\u001b[1m79/79\u001b[0m \u001b[32m━━━━━━━━━━━━━━━━━━━━\u001b[0m\u001b[37m\u001b[0m \u001b[1m4s\u001b[0m 29ms/step - accuracy: 0.9086 - loss: 0.1357 - val_accuracy: 0.9093 - val_loss: 0.1373\n",
            "Epoch 7/20\n",
            "\u001b[1m79/79\u001b[0m \u001b[32m━━━━━━━━━━━━━━━━━━━━\u001b[0m\u001b[37m\u001b[0m \u001b[1m2s\u001b[0m 29ms/step - accuracy: 0.9122 - loss: 0.1337 - val_accuracy: 0.9111 - val_loss: 0.1329\n",
            "Epoch 8/20\n",
            "\u001b[1m79/79\u001b[0m \u001b[32m━━━━━━━━━━━━━━━━━━━━\u001b[0m\u001b[37m\u001b[0m \u001b[1m2s\u001b[0m 28ms/step - accuracy: 0.9120 - loss: 0.1342 - val_accuracy: 0.9069 - val_loss: 0.1343\n",
            "Epoch 9/20\n",
            "\u001b[1m79/79\u001b[0m \u001b[32m━━━━━━━━━━━━━━━━━━━━\u001b[0m\u001b[37m\u001b[0m \u001b[1m3s\u001b[0m 40ms/step - accuracy: 0.9109 - loss: 0.1332 - val_accuracy: 0.9100 - val_loss: 0.1334\n",
            "Epoch 10/20\n",
            "\u001b[1m79/79\u001b[0m \u001b[32m━━━━━━━━━━━━━━━━━━━━\u001b[0m\u001b[37m\u001b[0m \u001b[1m3s\u001b[0m 31ms/step - accuracy: 0.9102 - loss: 0.1339 - val_accuracy: 0.9115 - val_loss: 0.1323\n",
            "Epoch 11/20\n",
            "\u001b[1m79/79\u001b[0m \u001b[32m━━━━━━━━━━━━━━━━━━━━\u001b[0m\u001b[37m\u001b[0m \u001b[1m2s\u001b[0m 28ms/step - accuracy: 0.9099 - loss: 0.1327 - val_accuracy: 0.9108 - val_loss: 0.1328\n",
            "Epoch 12/20\n",
            "\u001b[1m79/79\u001b[0m \u001b[32m━━━━━━━━━━━━━━━━━━━━\u001b[0m\u001b[37m\u001b[0m \u001b[1m2s\u001b[0m 27ms/step - accuracy: 0.9130 - loss: 0.1310 - val_accuracy: 0.9057 - val_loss: 0.1352\n",
            "Epoch 13/20\n",
            "\u001b[1m79/79\u001b[0m \u001b[32m━━━━━━━━━━━━━━━━━━━━\u001b[0m\u001b[37m\u001b[0m \u001b[1m2s\u001b[0m 29ms/step - accuracy: 0.9131 - loss: 0.1313 - val_accuracy: 0.9085 - val_loss: 0.1332\n",
            "Epoch 14/20\n",
            "\u001b[1m79/79\u001b[0m \u001b[32m━━━━━━━━━━━━━━━━━━━━\u001b[0m\u001b[37m\u001b[0m \u001b[1m3s\u001b[0m 43ms/step - accuracy: 0.9139 - loss: 0.1314 - val_accuracy: 0.9100 - val_loss: 0.1329\n",
            "Epoch 15/20\n",
            "\u001b[1m79/79\u001b[0m \u001b[32m━━━━━━━━━━━━━━━━━━━━\u001b[0m\u001b[37m\u001b[0m \u001b[1m2s\u001b[0m 28ms/step - accuracy: 0.9150 - loss: 0.1308 - val_accuracy: 0.9075 - val_loss: 0.1339\n",
            "Epoch 16/20\n",
            "\u001b[1m79/79\u001b[0m \u001b[32m━━━━━━━━━━━━━━━━━━━━\u001b[0m\u001b[37m\u001b[0m \u001b[1m2s\u001b[0m 29ms/step - accuracy: 0.9110 - loss: 0.1331 - val_accuracy: 0.9089 - val_loss: 0.1334\n",
            "Epoch 17/20\n",
            "\u001b[1m79/79\u001b[0m \u001b[32m━━━━━━━━━━━━━━━━━━━━\u001b[0m\u001b[37m\u001b[0m \u001b[1m2s\u001b[0m 27ms/step - accuracy: 0.9137 - loss: 0.1322 - val_accuracy: 0.9107 - val_loss: 0.1331\n",
            "Epoch 18/20\n",
            "\u001b[1m79/79\u001b[0m \u001b[32m━━━━━━━━━━━━━━━━━━━━\u001b[0m\u001b[37m\u001b[0m \u001b[1m3s\u001b[0m 29ms/step - accuracy: 0.9156 - loss: 0.1296 - val_accuracy: 0.9110 - val_loss: 0.1344\n",
            "Epoch 19/20\n",
            "\u001b[1m79/79\u001b[0m \u001b[32m━━━━━━━━━━━━━━━━━━━━\u001b[0m\u001b[37m\u001b[0m \u001b[1m3s\u001b[0m 42ms/step - accuracy: 0.9125 - loss: 0.1326 - val_accuracy: 0.9092 - val_loss: 0.1333\n",
            "Epoch 20/20\n",
            "\u001b[1m79/79\u001b[0m \u001b[32m━━━━━━━━━━━━━━━━━━━━\u001b[0m\u001b[37m\u001b[0m \u001b[1m2s\u001b[0m 27ms/step - accuracy: 0.9150 - loss: 0.1306 - val_accuracy: 0.9099 - val_loss: 0.1346\n"
          ]
        },
        {
          "output_type": "execute_result",
          "data": {
            "text/plain": [
              "<keras.src.callbacks.history.History at 0x79d6b687ddd0>"
            ]
          },
          "metadata": {},
          "execution_count": 5
        }
      ]
    },
    {
      "cell_type": "markdown",
      "source": [
        "## Implement Miller-Rabin Primality Test"
      ],
      "metadata": {
        "id": "PHUgbmBwl-8Q"
      }
    },
    {
      "cell_type": "code",
      "source": [
        "def miller_rabin(n, k=10):\n",
        "    if n <= 1 or (n > 2 and n % 2 == 0):\n",
        "        return False\n",
        "\n",
        "    def check_composite(a, d, n, s):\n",
        "        x = pow(a, d, n)\n",
        "        if x == 1 or x == n - 1:\n",
        "            return False\n",
        "        for _ in range(s - 1):\n",
        "            x = pow(x, 2, n)\n",
        "            if x == n - 1:\n",
        "                return False\n",
        "        return True\n",
        "\n",
        "    d, s = n - 1, 0\n",
        "    while d % 2 == 0:\n",
        "        d //= 2\n",
        "        s += 1\n",
        "\n",
        "    for _ in range(k):\n",
        "        a = random.randint(2, n - 2)\n",
        "        if check_composite(a, d, n, s):\n",
        "            return False\n",
        "    return True"
      ],
      "metadata": {
        "id": "egT4lCyyitXp"
      },
      "execution_count": 6,
      "outputs": []
    },
    {
      "cell_type": "markdown",
      "source": [
        "## Gradio UI"
      ],
      "metadata": {
        "id": "Ehd18VyzmEKn"
      }
    },
    {
      "cell_type": "code",
      "source": [
        "def predict_number(n):\n",
        "    n = int(n)\n",
        "    features = np.array([[n, sum(map(int, str(n))), bin(n).count('1'), n % 2, n % 3, n % 5, n % 7, n % 11, n % 13]])\n",
        "    features = scaler.transform(features)\n",
        "    predictions = {name: model.predict(features)[0] for name, model in trained_models.items()}\n",
        "    deep_prediction = \"Prime\" if large_nn.predict(features)[0][0] > 0.5 else \"Composite\"\n",
        "    miller_rabin_result = \"Prime\" if miller_rabin(n) else \"Composite\"\n",
        "    return {**predictions, \"Deep Learning Model\": deep_prediction, \"Miller-Rabin Test\": miller_rabin_result}\n",
        "\n",
        "demo = gr.Interface(fn=predict_number, inputs=\"number\", outputs=\"json\")\n",
        "demo.launch()"
      ],
      "metadata": {
        "colab": {
          "base_uri": "https://localhost:8080/",
          "height": 648
        },
        "id": "YQKfXWrgiuMQ",
        "outputId": "71ee9831-f830-44af-88b2-3bb124be2b02"
      },
      "execution_count": 7,
      "outputs": [
        {
          "output_type": "stream",
          "name": "stdout",
          "text": [
            "Running Gradio in a Colab notebook requires sharing enabled. Automatically setting `share=True` (you can turn this off by setting `share=False` in `launch()` explicitly).\n",
            "\n",
            "Colab notebook detected. To show errors in colab notebook, set debug=True in launch()\n",
            "* Running on public URL: https://94483915538069c0e1.gradio.live\n",
            "\n",
            "This share link expires in 72 hours. For free permanent hosting and GPU upgrades, run `gradio deploy` from the terminal in the working directory to deploy to Hugging Face Spaces (https://huggingface.co/spaces)\n"
          ]
        },
        {
          "output_type": "display_data",
          "data": {
            "text/plain": [
              "<IPython.core.display.HTML object>"
            ],
            "text/html": [
              "<div><iframe src=\"https://94483915538069c0e1.gradio.live\" width=\"100%\" height=\"500\" allow=\"autoplay; camera; microphone; clipboard-read; clipboard-write;\" frameborder=\"0\" allowfullscreen></iframe></div>"
            ]
          },
          "metadata": {}
        },
        {
          "output_type": "execute_result",
          "data": {
            "text/plain": []
          },
          "metadata": {},
          "execution_count": 7
        }
      ]
    },
    {
      "cell_type": "markdown",
      "source": [
        "## Evaluate ML models"
      ],
      "metadata": {
        "id": "UiF0DxgKmJ5j"
      }
    },
    {
      "cell_type": "code",
      "source": [
        "for name, model in trained_models.items():\n",
        "    y_pred = model.predict(X_test)\n",
        "    acc = accuracy_score(y_test, y_pred)\n",
        "    print(f\"{name} Accuracy: {acc:.5f}\")"
      ],
      "metadata": {
        "colab": {
          "base_uri": "https://localhost:8080/"
        },
        "id": "7PxgbMVrlnYX",
        "outputId": "8e127d93-d68a-447d-fe3c-4d2cec1c5e5d"
      },
      "execution_count": 8,
      "outputs": [
        {
          "output_type": "stream",
          "name": "stdout",
          "text": [
            "Logistic Regression Accuracy: 0.90295\n",
            "Support Vector Machine Accuracy: 0.90915\n",
            "Random Forest Accuracy: 0.90440\n",
            "Gradient Boosting Accuracy: 0.91230\n",
            "Neural Network Accuracy: 0.90500\n"
          ]
        }
      ]
    },
    {
      "cell_type": "markdown",
      "source": [
        "## Evaluate Deep Learning Model"
      ],
      "metadata": {
        "id": "dU4c3sHRmOi4"
      }
    },
    {
      "cell_type": "code",
      "source": [
        "deep_learning_acc = large_nn.evaluate(X_test, y_test, verbose=0)[1]\n",
        "print(f\"Deep Learning Model Accuracy: {deep_learning_acc:.5f}\")\n"
      ],
      "metadata": {
        "colab": {
          "base_uri": "https://localhost:8080/"
        },
        "id": "yyRvH6FTlsfO",
        "outputId": "135234e6-9440-4da6-aa85-e411e2edd07c"
      },
      "execution_count": 11,
      "outputs": [
        {
          "output_type": "stream",
          "name": "stdout",
          "text": [
            "Deep Learning Model Accuracy: 0.90985\n"
          ]
        }
      ]
    }
  ]
}