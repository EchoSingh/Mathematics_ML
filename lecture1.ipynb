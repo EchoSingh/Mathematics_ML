{
  "nbformat": 4,
  "nbformat_minor": 0,
  "metadata": {
    "colab": {
      "provenance": []
    },
    "kernelspec": {
      "name": "python3",
      "display_name": "Python 3"
    },
    "language_info": {
      "name": "python"
    }
  },
  "cells": [
    {
      "cell_type": "markdown",
      "source": [
        "# Introduction to Python Matrices and NumPy\n",
        "\n",
        "Welcome to this introduction to NumPy, the essential library for numerical computing in Python. This notebook will guide you through creating and manipulating 2D arrays, executing mathematical operations efficiently, and understanding core NumPy functionalities. If you're already familiar with NumPy, feel free to skip this.\n",
        "\n",
        "### Learning Objectives\n",
        "After completing this notebook, you will be able to:\n",
        "- Use Jupyter Notebook effectively.\n",
        "- Create and manipulate NumPy arrays.\n",
        "- Apply indexing, slicing, and reshaping techniques.\n",
        "- Perform mathematical operations and array transformations.\n",
        "- Stack arrays horizontally and vertically."
      ],
      "metadata": {
        "id": "fwvHd3xMkJ6l"
      }
    },
    {
      "cell_type": "markdown",
      "source": [
        "## 1. Introduction to Jupyter Notebooks\n",
        "Jupyter Notebooks are interactive environments that integrate live code, documentation, equations, and visualizations. To execute a code cell, press **Shift + Enter** or click the **Run** button.\n"
      ],
      "metadata": {
        "id": "Y15BdgQDkOCZ"
      }
    },
    {
      "cell_type": "code",
      "source": [
        "# Run the following cell to print \"Hello World\".\n",
        "test = \"Hello World\"\n",
        "print(test)\n"
      ],
      "metadata": {
        "colab": {
          "base_uri": "https://localhost:8080/"
        },
        "id": "4mkULgQyk73b",
        "outputId": "2e43d2bf-8b61-4e20-d031-7cdd2f36315f"
      },
      "execution_count": 1,
      "outputs": [
        {
          "output_type": "stream",
          "name": "stdout",
          "text": [
            "Hello World\n"
          ]
        }
      ]
    },
    {
      "cell_type": "markdown",
      "source": [
        "## 2. Basics of NumPy\n",
        "\n",
        "NumPy provides powerful tools for handling large datasets efficiently, offering optimized functions for mathematical operations.\n",
        "\n",
        "### 2.1 Importing NumPy\n",
        "To use NumPy, import it as follows:"
      ],
      "metadata": {
        "id": "0fMuKo2JlABg"
      }
    },
    {
      "cell_type": "code",
      "source": [
        "import numpy as np"
      ],
      "metadata": {
        "id": "KqgF-sekp-Wl"
      },
      "execution_count": 7,
      "outputs": []
    },
    {
      "cell_type": "markdown",
      "source": [
        "### 2.2 Advantages of NumPy Arrays\n",
        "NumPy arrays (ndarrays) are faster, more memory-efficient, and support vectorized operations compared to Python lists.\n"
      ],
      "metadata": {
        "id": "vAsbkMFzqALG"
      }
    },
    {
      "cell_type": "code",
      "source": [
        "one_dimensional_arr = np.array([10, 12])\n",
        "print(one_dimensional_arr)  # Output: [10 12]"
      ],
      "metadata": {
        "colab": {
          "base_uri": "https://localhost:8080/"
        },
        "id": "tMKVfnM0qQeU",
        "outputId": "b02b6355-0be5-4825-8b67-7e97062d2e99"
      },
      "execution_count": 9,
      "outputs": [
        {
          "output_type": "stream",
          "name": "stdout",
          "text": [
            "[10 12]\n"
          ]
        }
      ]
    },
    {
      "cell_type": "markdown",
      "source": [
        "## 3. Creating NumPy Arrays"
      ],
      "metadata": {
        "id": "T_mHxJ7aqd8U"
      }
    },
    {
      "cell_type": "markdown",
      "source": [
        "### 3.1 Using `np.array()`"
      ],
      "metadata": {
        "id": "WKR5V6Laq3Zm"
      }
    },
    {
      "cell_type": "code",
      "source": [
        "a = np.array([1, 2, 3])\n",
        "print(a)  # Output: [1 2 3]"
      ],
      "metadata": {
        "colab": {
          "base_uri": "https://localhost:8080/"
        },
        "id": "aHx5YXfyq4_X",
        "outputId": "f01c35b7-9413-40a7-929d-9ab6b3b37d7b"
      },
      "execution_count": 10,
      "outputs": [
        {
          "output_type": "stream",
          "name": "stdout",
          "text": [
            "[1 2 3]\n"
          ]
        }
      ]
    },
    {
      "cell_type": "markdown",
      "source": [
        "### 3.2 Using `np.arange()`"
      ],
      "metadata": {
        "id": "yrYK5TkBtVF5"
      }
    },
    {
      "cell_type": "code",
      "source": [
        "b = np.arange(3)\n",
        "print(b)  # Output: [0 1 2]\n",
        "\n",
        "c = np.arange(1, 20, 3)\n",
        "print(c)  # Output: [1 4 7 10 13 16 19]"
      ],
      "metadata": {
        "colab": {
          "base_uri": "https://localhost:8080/"
        },
        "id": "-wozDkrxtdHF",
        "outputId": "883fbe13-3ebc-48a4-b41d-357dbeae2e01"
      },
      "execution_count": 11,
      "outputs": [
        {
          "output_type": "stream",
          "name": "stdout",
          "text": [
            "[0 1 2]\n",
            "[ 1  4  7 10 13 16 19]\n"
          ]
        }
      ]
    },
    {
      "cell_type": "markdown",
      "source": [
        "### 3.3 Using `np.linspace()`"
      ],
      "metadata": {
        "id": "w1q-R7fOtkIw"
      }
    },
    {
      "cell_type": "code",
      "source": [
        "lin_spaced_arr = np.linspace(0, 100, 5, dtype=int)\n",
        "print(lin_spaced_arr)  # Output: [  0  25  50  75 100]"
      ],
      "metadata": {
        "colab": {
          "base_uri": "https://localhost:8080/"
        },
        "id": "1IBqJEaFtuCg",
        "outputId": "c0bf810f-c5c6-4661-af53-9a4ef3b92fd0"
      },
      "execution_count": 12,
      "outputs": [
        {
          "output_type": "stream",
          "name": "stdout",
          "text": [
            "[  0  25  50  75 100]\n"
          ]
        }
      ]
    },
    {
      "cell_type": "markdown",
      "source": [
        "### 3.4 Special Arrays"
      ],
      "metadata": {
        "id": "uIOGt6c_t5OP"
      }
    },
    {
      "cell_type": "code",
      "source": [
        "np.ones(3)      # [1. 1. 1.]\n",
        "np.zeros(3)     # [0. 0. 0.]\n",
        "np.empty(3)     # Uninitialized values\n",
        "np.random.rand(3)  # Random values between 0 and 1"
      ],
      "metadata": {
        "colab": {
          "base_uri": "https://localhost:8080/"
        },
        "id": "vIr1TLNUt8JS",
        "outputId": "5876c62b-7660-4db5-a04d-07da80953329"
      },
      "execution_count": 13,
      "outputs": [
        {
          "output_type": "execute_result",
          "data": {
            "text/plain": [
              "array([0.04067224, 0.86065678, 0.20746947])"
            ]
          },
          "metadata": {},
          "execution_count": 13
        }
      ]
    },
    {
      "cell_type": "markdown",
      "source": [
        "## 4. Multidimensional Arrays"
      ],
      "metadata": {
        "id": "heNpOVPBuEjP"
      }
    },
    {
      "cell_type": "code",
      "source": [
        "two_dim_arr = np.array([[1,2,3], [4,5,6]])\n",
        "print(two_dim_arr)"
      ],
      "metadata": {
        "colab": {
          "base_uri": "https://localhost:8080/"
        },
        "id": "K0gbruozuAeH",
        "outputId": "cc4296fa-a164-4585-9ac0-3b2c2c8aaccf"
      },
      "execution_count": 15,
      "outputs": [
        {
          "output_type": "stream",
          "name": "stdout",
          "text": [
            "[[1 2 3]\n",
            " [4 5 6]]\n"
          ]
        }
      ]
    },
    {
      "cell_type": "markdown",
      "source": [
        "### 4.1 Reshaping Arrays"
      ],
      "metadata": {
        "id": "RMBpNfFVuNHI"
      }
    },
    {
      "cell_type": "code",
      "source": [
        "one_dim_arr = np.array([1, 2, 3, 4, 5, 6])\n",
        "multi_dim_arr = np.reshape(one_dim_arr, (2,3))\n",
        "print(multi_dim_arr)"
      ],
      "metadata": {
        "colab": {
          "base_uri": "https://localhost:8080/"
        },
        "id": "VtobsFstue4r",
        "outputId": "acbd41ef-3cdc-494f-ece6-7b9717893132"
      },
      "execution_count": 16,
      "outputs": [
        {
          "output_type": "stream",
          "name": "stdout",
          "text": [
            "[[1 2 3]\n",
            " [4 5 6]]\n"
          ]
        }
      ]
    },
    {
      "cell_type": "markdown",
      "source": [
        "### 4.2 Finding Shape and Size"
      ],
      "metadata": {
        "id": "4S9k8SyRuilf"
      }
    },
    {
      "cell_type": "code",
      "source": [
        "print(multi_dim_arr.ndim)   # Number of dimensions\n",
        "print(multi_dim_arr.shape)  # Shape (rows, columns)\n",
        "print(multi_dim_arr.size)   # Total number of elements"
      ],
      "metadata": {
        "colab": {
          "base_uri": "https://localhost:8080/"
        },
        "id": "T-Uev3UAur9S",
        "outputId": "6835a8b6-6a46-4c0a-be5c-f7b6c7fdadb1"
      },
      "execution_count": 17,
      "outputs": [
        {
          "output_type": "stream",
          "name": "stdout",
          "text": [
            "2\n",
            "(2, 3)\n",
            "6\n"
          ]
        }
      ]
    },
    {
      "cell_type": "markdown",
      "source": [
        "## 5. Mathematical Operations\n",
        "\n",
        "### 5.1 Element-wise Operations"
      ],
      "metadata": {
        "id": "HoXjlJZwuvjZ"
      }
    },
    {
      "cell_type": "code",
      "source": [
        "arr_1 = np.array([2, 4, 6])\n",
        "arr_2 = np.array([1, 3, 5])\n",
        "\n",
        "print(arr_1 + arr_2)  # Addition\n",
        "print(arr_1 - arr_2)  # Subtraction\n",
        "print(arr_1 * arr_2)  # Multiplication"
      ],
      "metadata": {
        "colab": {
          "base_uri": "https://localhost:8080/"
        },
        "id": "L8Y8WpHWu-eu",
        "outputId": "ceaad4ad-f29d-4824-e2d2-9f4041a01626"
      },
      "execution_count": 18,
      "outputs": [
        {
          "output_type": "stream",
          "name": "stdout",
          "text": [
            "[ 3  7 11]\n",
            "[1 1 1]\n",
            "[ 2 12 30]\n"
          ]
        }
      ]
    },
    {
      "cell_type": "markdown",
      "source": [
        "### 5.2 Broadcasting (Multiplication with Scalars)"
      ],
      "metadata": {
        "id": "bCUTwf6cvHfX"
      }
    },
    {
      "cell_type": "code",
      "source": [
        "vector = np.array([1, 2])\n",
        "print(vector * 1.6)  # Output: [1.6 3.2]"
      ],
      "metadata": {
        "colab": {
          "base_uri": "https://localhost:8080/"
        },
        "id": "BU-3YQLDvJ_T",
        "outputId": "973557ea-9821-4ba1-80a0-9878fa2c146b"
      },
      "execution_count": 19,
      "outputs": [
        {
          "output_type": "stream",
          "name": "stdout",
          "text": [
            "[1.6 3.2]\n"
          ]
        }
      ]
    },
    {
      "cell_type": "markdown",
      "source": [
        "## 6. Indexing and Slicing\n",
        "\n",
        "### 6.1 Indexing"
      ],
      "metadata": {
        "id": "w6A5EVe-vbxn"
      }
    },
    {
      "cell_type": "code",
      "source": [
        "a = np.array([1, 2, 3, 4, 5])\n",
        "print(a[2])  # Output: 3"
      ],
      "metadata": {
        "colab": {
          "base_uri": "https://localhost:8080/"
        },
        "id": "8crIRjUZvd6m",
        "outputId": "31ac5ed7-a290-4d63-bf16-d17ce4f33b07"
      },
      "execution_count": 20,
      "outputs": [
        {
          "output_type": "stream",
          "name": "stdout",
          "text": [
            "3\n"
          ]
        }
      ]
    },
    {
      "cell_type": "markdown",
      "source": [
        "For 2D arrays:"
      ],
      "metadata": {
        "id": "KllU9m2fvh7i"
      }
    },
    {
      "cell_type": "code",
      "source": [
        "two_dim = np.array([[1, 2, 3], [4, 5, 6], [7, 8, 9]])\n",
        "print(two_dim[2,1])  # Output: 8"
      ],
      "metadata": {
        "colab": {
          "base_uri": "https://localhost:8080/"
        },
        "id": "MYDOEm9evoaL",
        "outputId": "a48d3561-ef9b-4bd1-96ff-8f3b5677f5a0"
      },
      "execution_count": 21,
      "outputs": [
        {
          "output_type": "stream",
          "name": "stdout",
          "text": [
            "8\n"
          ]
        }
      ]
    },
    {
      "cell_type": "markdown",
      "source": [
        "### 6.2 Slicing"
      ],
      "metadata": {
        "id": "aM577Rn9vry_"
      }
    },
    {
      "cell_type": "code",
      "source": [
        "print(a[1:4])  # Output: [2 3 4]\n",
        "print(a[:3])   # Output: [1 2 3]\n",
        "print(a[2:])   # Output: [3 4 5]\n",
        "print(a[::2])  # Output: [1 3 5]"
      ],
      "metadata": {
        "colab": {
          "base_uri": "https://localhost:8080/"
        },
        "id": "jh7hyXPTv2dx",
        "outputId": "8b7f7d6e-d988-4102-eadb-079f5aab735f"
      },
      "execution_count": 22,
      "outputs": [
        {
          "output_type": "stream",
          "name": "stdout",
          "text": [
            "[2 3 4]\n",
            "[1 2 3]\n",
            "[3 4 5]\n",
            "[1 3 5]\n"
          ]
        }
      ]
    },
    {
      "cell_type": "markdown",
      "source": [
        "For 2D arrays:"
      ],
      "metadata": {
        "id": "hDLJPAewv7Qu"
      }
    },
    {
      "cell_type": "code",
      "source": [
        "print(two_dim[0:2])  # First two rows\n",
        "print(two_dim[:,1])  # Second column"
      ],
      "metadata": {
        "colab": {
          "base_uri": "https://localhost:8080/"
        },
        "id": "L1KMfJW7v52b",
        "outputId": "2b403531-a74e-4477-952e-f4bce3d744c3"
      },
      "execution_count": 23,
      "outputs": [
        {
          "output_type": "stream",
          "name": "stdout",
          "text": [
            "[[1 2 3]\n",
            " [4 5 6]]\n",
            "[2 5 8]\n"
          ]
        }
      ]
    },
    {
      "cell_type": "markdown",
      "source": [
        "## 7. Stacking Arrays\n",
        "\n",
        "### 7.1 Vertical and Horizontal Stacking"
      ],
      "metadata": {
        "id": "4wQ6LfOPwESg"
      }
    },
    {
      "cell_type": "code",
      "source": [
        "a1 = np.array([[1,1], [2,2]])\n",
        "a2 = np.array([[3,3], [4,4]])\n",
        "\n",
        "print(np.vstack((a1, a2)))  # Vertical stacking\n",
        "print(np.hstack((a1, a2)))  # Horizontal stacking"
      ],
      "metadata": {
        "colab": {
          "base_uri": "https://localhost:8080/"
        },
        "id": "7i9tdpVzwT9o",
        "outputId": "5d06b346-f28a-4fc2-eb54-156cbb79e7f6"
      },
      "execution_count": 24,
      "outputs": [
        {
          "output_type": "stream",
          "name": "stdout",
          "text": [
            "[[1 1]\n",
            " [2 2]\n",
            " [3 3]\n",
            " [4 4]]\n",
            "[[1 1 3 3]\n",
            " [2 2 4 4]]\n"
          ]
        }
      ]
    },
    {
      "cell_type": "markdown",
      "source": [
        "### 7.2 Splitting Arrays"
      ],
      "metadata": {
        "id": "hh7BvS0jwdLO"
      }
    },
    {
      "cell_type": "code",
      "source": [
        "array = np.array([1, 2, 3, 4, 5, 6])\n",
        "print(np.split(array, 2))  # Split into two equal arrays"
      ],
      "metadata": {
        "colab": {
          "base_uri": "https://localhost:8080/"
        },
        "id": "c6d6dWeIwrlF",
        "outputId": "7708442c-a0d6-472c-e39d-f8b6413c2985"
      },
      "execution_count": 25,
      "outputs": [
        {
          "output_type": "stream",
          "name": "stdout",
          "text": [
            "[array([1, 2, 3]), array([4, 5, 6])]\n"
          ]
        }
      ]
    },
    {
      "cell_type": "markdown",
      "source": [
        "## 8. Exercises\n",
        "Try implementing the following:\n",
        "- Create a 3x3 matrix filled with random values.\n",
        "- Extract a submatrix from a given 4x4 matrix.\n",
        "- Perform matrix multiplication using `np.dot()`.\n"
      ],
      "metadata": {
        "id": "VN8EeUp0yKV-"
      }
    }
  ]
}